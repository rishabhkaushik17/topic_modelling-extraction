{
 "cells": [
  {
   "cell_type": "code",
   "execution_count": 285,
   "metadata": {},
   "outputs": [],
   "source": [
    "import pandas as pd"
   ]
  },
  {
   "cell_type": "code",
   "execution_count": 286,
   "metadata": {},
   "outputs": [],
   "source": [
    "file = './DWM/T3.docx'"
   ]
  },
  {
   "cell_type": "code",
   "execution_count": 287,
   "metadata": {},
   "outputs": [],
   "source": [
    "ms = pd.read_csv('./DWM/DWM_Marks_T3.csv', skip_blank_lines=True)"
   ]
  },
  {
   "cell_type": "code",
   "execution_count": 288,
   "metadata": {},
   "outputs": [
    {
     "data": {
      "text/html": [
       "<div>\n",
       "<style scoped>\n",
       "    .dataframe tbody tr th:only-of-type {\n",
       "        vertical-align: middle;\n",
       "    }\n",
       "\n",
       "    .dataframe tbody tr th {\n",
       "        vertical-align: top;\n",
       "    }\n",
       "\n",
       "    .dataframe thead th {\n",
       "        text-align: right;\n",
       "    }\n",
       "</style>\n",
       "<table border=\"1\" class=\"dataframe\">\n",
       "  <thead>\n",
       "    <tr style=\"text-align: right;\">\n",
       "      <th></th>\n",
       "      <th>SN.</th>\n",
       "      <th>Roll No.</th>\n",
       "      <th>Student Name</th>\n",
       "      <th>Q1</th>\n",
       "      <th>Q2</th>\n",
       "      <th>Q3</th>\n",
       "      <th>Q4</th>\n",
       "      <th>Total</th>\n",
       "      <th>CO3</th>\n",
       "      <th>CO4</th>\n",
       "      <th>CO5</th>\n",
       "      <th>CO6</th>\n",
       "    </tr>\n",
       "  </thead>\n",
       "  <tbody>\n",
       "    <tr>\n",
       "      <th>0</th>\n",
       "      <td>1</td>\n",
       "      <td>14103104</td>\n",
       "      <td>Ojas Singh Thakur</td>\n",
       "      <td>NaN</td>\n",
       "      <td>NaN</td>\n",
       "      <td>NaN</td>\n",
       "      <td>NaN</td>\n",
       "      <td>A</td>\n",
       "      <td>NaN</td>\n",
       "      <td>NaN</td>\n",
       "      <td>NaN</td>\n",
       "      <td>0.00</td>\n",
       "    </tr>\n",
       "    <tr>\n",
       "      <th>1</th>\n",
       "      <td>2</td>\n",
       "      <td>16103003</td>\n",
       "      <td>Prakhar Saxena</td>\n",
       "      <td>3.0</td>\n",
       "      <td>5.5</td>\n",
       "      <td>1.5</td>\n",
       "      <td>2.5</td>\n",
       "      <td>12.5</td>\n",
       "      <td>41.7</td>\n",
       "      <td>0.0</td>\n",
       "      <td>55.0</td>\n",
       "      <td>32.14</td>\n",
       "    </tr>\n",
       "    <tr>\n",
       "      <th>2</th>\n",
       "      <td>3</td>\n",
       "      <td>16103004</td>\n",
       "      <td>Neha Rastogi</td>\n",
       "      <td>7.5</td>\n",
       "      <td>7.0</td>\n",
       "      <td>4.5</td>\n",
       "      <td>6.0</td>\n",
       "      <td>25</td>\n",
       "      <td>83.3</td>\n",
       "      <td>20.0</td>\n",
       "      <td>70.0</td>\n",
       "      <td>85.71</td>\n",
       "    </tr>\n",
       "    <tr>\n",
       "      <th>3</th>\n",
       "      <td>4</td>\n",
       "      <td>16103006</td>\n",
       "      <td>Tarushi Agrawal</td>\n",
       "      <td>8.0</td>\n",
       "      <td>7.0</td>\n",
       "      <td>5.0</td>\n",
       "      <td>6.0</td>\n",
       "      <td>26</td>\n",
       "      <td>66.7</td>\n",
       "      <td>40.0</td>\n",
       "      <td>70.0</td>\n",
       "      <td>92.86</td>\n",
       "    </tr>\n",
       "    <tr>\n",
       "      <th>4</th>\n",
       "      <td>5</td>\n",
       "      <td>16103007</td>\n",
       "      <td>Kanishk</td>\n",
       "      <td>5.0</td>\n",
       "      <td>6.0</td>\n",
       "      <td>1.0</td>\n",
       "      <td>0.5</td>\n",
       "      <td>12.5</td>\n",
       "      <td>8.3</td>\n",
       "      <td>0.0</td>\n",
       "      <td>60.0</td>\n",
       "      <td>42.86</td>\n",
       "    </tr>\n",
       "  </tbody>\n",
       "</table>\n",
       "</div>"
      ],
      "text/plain": [
       "   SN.  Roll No.       Student Name   Q1   Q2   Q3   Q4 Total   CO3   CO4  \\\n",
       "0    1  14103104  Ojas Singh Thakur  NaN  NaN  NaN  NaN     A   NaN   NaN   \n",
       "1    2  16103003     Prakhar Saxena  3.0  5.5  1.5  2.5  12.5  41.7   0.0   \n",
       "2    3  16103004       Neha Rastogi  7.5  7.0  4.5  6.0    25  83.3  20.0   \n",
       "3    4  16103006    Tarushi Agrawal  8.0  7.0  5.0  6.0    26  66.7  40.0   \n",
       "4    5  16103007            Kanishk  5.0  6.0  1.0  0.5  12.5   8.3   0.0   \n",
       "\n",
       "    CO5    CO6  \n",
       "0   NaN   0.00  \n",
       "1  55.0  32.14  \n",
       "2  70.0  85.71  \n",
       "3  70.0  92.86  \n",
       "4  60.0  42.86  "
      ]
     },
     "execution_count": 288,
     "metadata": {},
     "output_type": "execute_result"
    }
   ],
   "source": [
    "ms.head()"
   ]
  },
  {
   "cell_type": "code",
   "execution_count": 289,
   "metadata": {},
   "outputs": [],
   "source": [
    "ms = ms[ms[\"Total\"] != 'A']\n",
    "ms = ms.drop([\"SN.\"], axis=1)"
   ]
  },
  {
   "cell_type": "code",
   "execution_count": 290,
   "metadata": {},
   "outputs": [
    {
     "data": {
      "text/html": [
       "<div>\n",
       "<style scoped>\n",
       "    .dataframe tbody tr th:only-of-type {\n",
       "        vertical-align: middle;\n",
       "    }\n",
       "\n",
       "    .dataframe tbody tr th {\n",
       "        vertical-align: top;\n",
       "    }\n",
       "\n",
       "    .dataframe thead th {\n",
       "        text-align: right;\n",
       "    }\n",
       "</style>\n",
       "<table border=\"1\" class=\"dataframe\">\n",
       "  <thead>\n",
       "    <tr style=\"text-align: right;\">\n",
       "      <th></th>\n",
       "      <th>Roll No.</th>\n",
       "      <th>Student Name</th>\n",
       "      <th>Q1</th>\n",
       "      <th>Q2</th>\n",
       "      <th>Q3</th>\n",
       "      <th>Q4</th>\n",
       "      <th>Total</th>\n",
       "      <th>CO3</th>\n",
       "      <th>CO4</th>\n",
       "      <th>CO5</th>\n",
       "      <th>CO6</th>\n",
       "    </tr>\n",
       "  </thead>\n",
       "  <tbody>\n",
       "    <tr>\n",
       "      <th>1</th>\n",
       "      <td>16103003</td>\n",
       "      <td>Prakhar Saxena</td>\n",
       "      <td>3.0</td>\n",
       "      <td>5.5</td>\n",
       "      <td>1.5</td>\n",
       "      <td>2.5</td>\n",
       "      <td>12.5</td>\n",
       "      <td>41.7</td>\n",
       "      <td>0.0</td>\n",
       "      <td>55.0</td>\n",
       "      <td>32.14</td>\n",
       "    </tr>\n",
       "    <tr>\n",
       "      <th>2</th>\n",
       "      <td>16103004</td>\n",
       "      <td>Neha Rastogi</td>\n",
       "      <td>7.5</td>\n",
       "      <td>7.0</td>\n",
       "      <td>4.5</td>\n",
       "      <td>6.0</td>\n",
       "      <td>25</td>\n",
       "      <td>83.3</td>\n",
       "      <td>20.0</td>\n",
       "      <td>70.0</td>\n",
       "      <td>85.71</td>\n",
       "    </tr>\n",
       "    <tr>\n",
       "      <th>3</th>\n",
       "      <td>16103006</td>\n",
       "      <td>Tarushi Agrawal</td>\n",
       "      <td>8.0</td>\n",
       "      <td>7.0</td>\n",
       "      <td>5.0</td>\n",
       "      <td>6.0</td>\n",
       "      <td>26</td>\n",
       "      <td>66.7</td>\n",
       "      <td>40.0</td>\n",
       "      <td>70.0</td>\n",
       "      <td>92.86</td>\n",
       "    </tr>\n",
       "    <tr>\n",
       "      <th>4</th>\n",
       "      <td>16103007</td>\n",
       "      <td>Kanishk</td>\n",
       "      <td>5.0</td>\n",
       "      <td>6.0</td>\n",
       "      <td>1.0</td>\n",
       "      <td>0.5</td>\n",
       "      <td>12.5</td>\n",
       "      <td>8.3</td>\n",
       "      <td>0.0</td>\n",
       "      <td>60.0</td>\n",
       "      <td>42.86</td>\n",
       "    </tr>\n",
       "    <tr>\n",
       "      <th>5</th>\n",
       "      <td>16103008</td>\n",
       "      <td>Rishabh Jaiswal</td>\n",
       "      <td>8.0</td>\n",
       "      <td>5.0</td>\n",
       "      <td>1.0</td>\n",
       "      <td>7.0</td>\n",
       "      <td>21</td>\n",
       "      <td>33.3</td>\n",
       "      <td>100.0</td>\n",
       "      <td>50.0</td>\n",
       "      <td>64.29</td>\n",
       "    </tr>\n",
       "  </tbody>\n",
       "</table>\n",
       "</div>"
      ],
      "text/plain": [
       "   Roll No.     Student Name   Q1   Q2   Q3   Q4 Total   CO3    CO4   CO5  \\\n",
       "1  16103003   Prakhar Saxena  3.0  5.5  1.5  2.5  12.5  41.7    0.0  55.0   \n",
       "2  16103004     Neha Rastogi  7.5  7.0  4.5  6.0    25  83.3   20.0  70.0   \n",
       "3  16103006  Tarushi Agrawal  8.0  7.0  5.0  6.0    26  66.7   40.0  70.0   \n",
       "4  16103007          Kanishk  5.0  6.0  1.0  0.5  12.5   8.3    0.0  60.0   \n",
       "5  16103008  Rishabh Jaiswal  8.0  5.0  1.0  7.0    21  33.3  100.0  50.0   \n",
       "\n",
       "     CO6  \n",
       "1  32.14  \n",
       "2  85.71  \n",
       "3  92.86  \n",
       "4  42.86  \n",
       "5  64.29  "
      ]
     },
     "execution_count": 290,
     "metadata": {},
     "output_type": "execute_result"
    }
   ],
   "source": [
    "ms.head()"
   ]
  },
  {
   "cell_type": "code",
   "execution_count": 291,
   "metadata": {},
   "outputs": [
    {
     "data": {
      "text/html": [
       "<div>\n",
       "<style scoped>\n",
       "    .dataframe tbody tr th:only-of-type {\n",
       "        vertical-align: middle;\n",
       "    }\n",
       "\n",
       "    .dataframe tbody tr th {\n",
       "        vertical-align: top;\n",
       "    }\n",
       "\n",
       "    .dataframe thead th {\n",
       "        text-align: right;\n",
       "    }\n",
       "</style>\n",
       "<table border=\"1\" class=\"dataframe\">\n",
       "  <thead>\n",
       "    <tr style=\"text-align: right;\">\n",
       "      <th></th>\n",
       "      <th>Question Number</th>\n",
       "      <th>Topic</th>\n",
       "      <th>Cosine Similarity</th>\n",
       "    </tr>\n",
       "  </thead>\n",
       "  <tbody>\n",
       "    <tr>\n",
       "      <th>0</th>\n",
       "      <td>Q1</td>\n",
       "      <td>item-to-item recommendation</td>\n",
       "      <td>0.866025</td>\n",
       "    </tr>\n",
       "    <tr>\n",
       "      <th>1</th>\n",
       "      <td>Q2</td>\n",
       "      <td>apriori algorithm</td>\n",
       "      <td>1.000000</td>\n",
       "    </tr>\n",
       "    <tr>\n",
       "      <th>2</th>\n",
       "      <td>Q3</td>\n",
       "      <td>random</td>\n",
       "      <td>0.707107</td>\n",
       "    </tr>\n",
       "    <tr>\n",
       "      <th>3</th>\n",
       "      <td>Q4</td>\n",
       "      <td>: dbscan</td>\n",
       "      <td>0.707107</td>\n",
       "    </tr>\n",
       "  </tbody>\n",
       "</table>\n",
       "</div>"
      ],
      "text/plain": [
       "  Question Number                        Topic  Cosine Similarity\n",
       "0              Q1  item-to-item recommendation           0.866025\n",
       "1              Q2            apriori algorithm           1.000000\n",
       "2              Q3                       random           0.707107\n",
       "3              Q4                     : dbscan           0.707107"
      ]
     },
     "execution_count": 291,
     "metadata": {},
     "output_type": "execute_result"
    }
   ],
   "source": [
    "q_topic = pd.read_csv(\"ques_topics.csv\")\n",
    "q_topic"
   ]
  },
  {
   "cell_type": "code",
   "execution_count": 292,
   "metadata": {},
   "outputs": [],
   "source": [
    "from ques_paper_to_dic import get_ques_marks\n",
    "\n",
    "marks = get_ques_marks(file)\n",
    "q_topic['Marks'] = marks"
   ]
  },
  {
   "cell_type": "code",
   "execution_count": 293,
   "metadata": {},
   "outputs": [
    {
     "data": {
      "text/html": [
       "<div>\n",
       "<style scoped>\n",
       "    .dataframe tbody tr th:only-of-type {\n",
       "        vertical-align: middle;\n",
       "    }\n",
       "\n",
       "    .dataframe tbody tr th {\n",
       "        vertical-align: top;\n",
       "    }\n",
       "\n",
       "    .dataframe thead th {\n",
       "        text-align: right;\n",
       "    }\n",
       "</style>\n",
       "<table border=\"1\" class=\"dataframe\">\n",
       "  <thead>\n",
       "    <tr style=\"text-align: right;\">\n",
       "      <th></th>\n",
       "      <th>Question Number</th>\n",
       "      <th>Topic</th>\n",
       "      <th>Cosine Similarity</th>\n",
       "      <th>Marks</th>\n",
       "    </tr>\n",
       "  </thead>\n",
       "  <tbody>\n",
       "    <tr>\n",
       "      <th>0</th>\n",
       "      <td>Q1</td>\n",
       "      <td>item-to-item recommendation</td>\n",
       "      <td>0.866025</td>\n",
       "      <td>8</td>\n",
       "    </tr>\n",
       "    <tr>\n",
       "      <th>1</th>\n",
       "      <td>Q2</td>\n",
       "      <td>apriori algorithm</td>\n",
       "      <td>1.000000</td>\n",
       "      <td>10</td>\n",
       "    </tr>\n",
       "    <tr>\n",
       "      <th>2</th>\n",
       "      <td>Q3</td>\n",
       "      <td>random</td>\n",
       "      <td>0.707107</td>\n",
       "      <td>6</td>\n",
       "    </tr>\n",
       "    <tr>\n",
       "      <th>3</th>\n",
       "      <td>Q4</td>\n",
       "      <td>: dbscan</td>\n",
       "      <td>0.707107</td>\n",
       "      <td>11</td>\n",
       "    </tr>\n",
       "  </tbody>\n",
       "</table>\n",
       "</div>"
      ],
      "text/plain": [
       "  Question Number                        Topic  Cosine Similarity  Marks\n",
       "0              Q1  item-to-item recommendation           0.866025      8\n",
       "1              Q2            apriori algorithm           1.000000     10\n",
       "2              Q3                       random           0.707107      6\n",
       "3              Q4                     : dbscan           0.707107     11"
      ]
     },
     "execution_count": 293,
     "metadata": {},
     "output_type": "execute_result"
    }
   ],
   "source": [
    "q_topic"
   ]
  },
  {
   "cell_type": "code",
   "execution_count": 294,
   "metadata": {},
   "outputs": [],
   "source": [
    "import matplotlib.pyplot as plt\n",
    "import numpy as np"
   ]
  },
  {
   "cell_type": "markdown",
   "metadata": {},
   "source": [
    "### Student Dashboard"
   ]
  },
  {
   "cell_type": "code",
   "execution_count": 295,
   "metadata": {},
   "outputs": [
    {
     "data": {
      "image/png": "[encoded data removed]",
      "text/plain": [
       "<Figure size 640x480 with 1 Axes>"
      ]
     },
     "metadata": {},
     "output_type": "display_data"
    }
   ],
   "source": [
    "y = q_topic['Marks']\n",
    "mylabels = q_topic['Question Number']\n",
    "fig, ax = plt.subplots()\n",
    "ax.pie(y, labels=mylabels, autopct='%.1f%%')\n",
    "ax.set_title('Marks % by Question')\n",
    "plt.tight_layout()"
   ]
  },
  {
   "cell_type": "code",
   "execution_count": 296,
   "metadata": {},
   "outputs": [
    {
     "name": "stderr",
     "output_type": "stream",
     "text": [
      "/var/folders/71/m7vk6ll143bfrk27k51drl380000gn/T/ipykernel_17982/2974602714.py:1: FutureWarning: The default value of numeric_only in DataFrame.mean is deprecated. In a future version, it will default to False. In addition, specifying 'numeric_only=None' is deprecated. Select only valid columns or specify the value of numeric_only to silence this warning.\n",
      "  mean_q = list(ms.mean())\n"
     ]
    },
    {
     "data": {
      "text/plain": [
       "[5.903141361256544, 7.683246073298429, 3.5287958115183247, 4.049738219895288]"
      ]
     },
     "execution_count": 296,
     "metadata": {},
     "output_type": "execute_result"
    }
   ],
   "source": [
    "mean_q = list(ms.mean())\n",
    "mean_q = mean_q[1 : 1+len(marks)]\n",
    "mean_q"
   ]
  },
  {
   "cell_type": "code",
   "execution_count": 297,
   "metadata": {},
   "outputs": [
    {
     "data": {
      "image/png": "[encoded data removed]",
      "text/plain": [
       "<Figure size 640x480 with 1 Axes>"
      ]
     },
     "metadata": {},
     "output_type": "display_data"
    }
   ],
   "source": [
    "labels = q_topic['Question Number']\n",
    "max_marks = q_topic['Marks']\n",
    "avg_marks = np.array(mean_q)\n",
    "\n",
    "x = np.arange(len(labels))  \n",
    "width = 0.35  \n",
    "\n",
    "fig, ax = plt.subplots()\n",
    "rects1 = ax.bar(x - width/2, max_marks, width, label='Max Marks')\n",
    "rects2 = ax.bar(x + width/2, avg_marks, width, label='Avg Marks')\n",
    "\n",
    "ax.set_ylabel('Marks')\n",
    "ax.set_title('Avg Marks by Question Number')\n",
    "ax.set_xticks(x, labels)\n",
    "ax.legend()\n",
    "\n",
    "ax.bar_label(rects1, padding=3)\n",
    "ax.bar_label(rects2, padding=3)\n",
    "\n",
    "fig.tight_layout()\n",
    "\n",
    "plt.show()"
   ]
  },
  {
   "cell_type": "code",
   "execution_count": 298,
   "metadata": {},
   "outputs": [
    {
     "data": {
      "image/png": "[encoded data removed]",
      "text/plain": [
       "<Figure size 640x480 with 1 Axes>"
      ]
     },
     "metadata": {},
     "output_type": "display_data"
    }
   ],
   "source": [
    "per_marks = (avg_marks/max_marks)*100.0\n",
    "topics = q_topic['Topic']\n",
    "plt.plot(topics, per_marks)\n",
    "plt.xticks(rotation = 90)\n",
    "plt.xlabel(\"Topics\")\n",
    "plt.ylabel(\"% attainment\")\n",
    "plt.title(\"% attainment by topic\")\n",
    "plt.show()"
   ]
  },
  {
   "cell_type": "code",
   "execution_count": 299,
   "metadata": {},
   "outputs": [
    {
     "data": {
      "text/html": [
       "<div>\n",
       "<style scoped>\n",
       "    .dataframe tbody tr th:only-of-type {\n",
       "        vertical-align: middle;\n",
       "    }\n",
       "\n",
       "    .dataframe tbody tr th {\n",
       "        vertical-align: top;\n",
       "    }\n",
       "\n",
       "    .dataframe thead th {\n",
       "        text-align: right;\n",
       "    }\n",
       "</style>\n",
       "<table border=\"1\" class=\"dataframe\">\n",
       "  <thead>\n",
       "    <tr style=\"text-align: right;\">\n",
       "      <th></th>\n",
       "      <th>Q1</th>\n",
       "      <th>Q2</th>\n",
       "      <th>Q3</th>\n",
       "      <th>Q4</th>\n",
       "    </tr>\n",
       "  </thead>\n",
       "  <tbody>\n",
       "    <tr>\n",
       "      <th>1</th>\n",
       "      <td>3.0</td>\n",
       "      <td>5.5</td>\n",
       "      <td>1.5</td>\n",
       "      <td>2.5</td>\n",
       "    </tr>\n",
       "    <tr>\n",
       "      <th>2</th>\n",
       "      <td>7.5</td>\n",
       "      <td>7.0</td>\n",
       "      <td>4.5</td>\n",
       "      <td>6.0</td>\n",
       "    </tr>\n",
       "    <tr>\n",
       "      <th>3</th>\n",
       "      <td>8.0</td>\n",
       "      <td>7.0</td>\n",
       "      <td>5.0</td>\n",
       "      <td>6.0</td>\n",
       "    </tr>\n",
       "    <tr>\n",
       "      <th>4</th>\n",
       "      <td>5.0</td>\n",
       "      <td>6.0</td>\n",
       "      <td>1.0</td>\n",
       "      <td>0.5</td>\n",
       "    </tr>\n",
       "    <tr>\n",
       "      <th>5</th>\n",
       "      <td>8.0</td>\n",
       "      <td>5.0</td>\n",
       "      <td>1.0</td>\n",
       "      <td>7.0</td>\n",
       "    </tr>\n",
       "    <tr>\n",
       "      <th>...</th>\n",
       "      <td>...</td>\n",
       "      <td>...</td>\n",
       "      <td>...</td>\n",
       "      <td>...</td>\n",
       "    </tr>\n",
       "    <tr>\n",
       "      <th>187</th>\n",
       "      <td>6.5</td>\n",
       "      <td>8.0</td>\n",
       "      <td>2.0</td>\n",
       "      <td>3.5</td>\n",
       "    </tr>\n",
       "    <tr>\n",
       "      <th>188</th>\n",
       "      <td>3.5</td>\n",
       "      <td>6.0</td>\n",
       "      <td>4.0</td>\n",
       "      <td>1.5</td>\n",
       "    </tr>\n",
       "    <tr>\n",
       "      <th>189</th>\n",
       "      <td>4.5</td>\n",
       "      <td>7.0</td>\n",
       "      <td>5.0</td>\n",
       "      <td>3.0</td>\n",
       "    </tr>\n",
       "    <tr>\n",
       "      <th>190</th>\n",
       "      <td>3.0</td>\n",
       "      <td>6.0</td>\n",
       "      <td>3.5</td>\n",
       "      <td>1.0</td>\n",
       "    </tr>\n",
       "    <tr>\n",
       "      <th>191</th>\n",
       "      <td>5.5</td>\n",
       "      <td>4.5</td>\n",
       "      <td>1.0</td>\n",
       "      <td>0.0</td>\n",
       "    </tr>\n",
       "  </tbody>\n",
       "</table>\n",
       "<p>191 rows × 4 columns</p>\n",
       "</div>"
      ],
      "text/plain": [
       "      Q1   Q2   Q3   Q4\n",
       "1    3.0  5.5  1.5  2.5\n",
       "2    7.5  7.0  4.5  6.0\n",
       "3    8.0  7.0  5.0  6.0\n",
       "4    5.0  6.0  1.0  0.5\n",
       "5    8.0  5.0  1.0  7.0\n",
       "..   ...  ...  ...  ...\n",
       "187  6.5  8.0  2.0  3.5\n",
       "188  3.5  6.0  4.0  1.5\n",
       "189  4.5  7.0  5.0  3.0\n",
       "190  3.0  6.0  3.5  1.0\n",
       "191  5.5  4.5  1.0  0.0\n",
       "\n",
       "[191 rows x 4 columns]"
      ]
     },
     "execution_count": 299,
     "metadata": {},
     "output_type": "execute_result"
    }
   ],
   "source": [
    "marks_obtained = ms.iloc[ : , 2:2+len(marks)]\n",
    "marks_obtained"
   ]
  },
  {
   "cell_type": "code",
   "execution_count": 300,
   "metadata": {},
   "outputs": [
    {
     "data": {
      "image/png": "[encoded data removed]",
      "text/plain": [
       "<Figure size 640x480 with 1 Axes>"
      ]
     },
     "metadata": {},
     "output_type": "display_data"
    }
   ],
   "source": [
    "plt.boxplot(marks_obtained)\n",
    "plt.title(\"Box Plot\")\n",
    "plt.show()"
   ]
  },
  {
   "cell_type": "code",
   "execution_count": 301,
   "metadata": {},
   "outputs": [],
   "source": [
    "def stu_attainment(enroll):\n",
    "    details =  ms.loc[ms['Roll No.'] == enroll]\n",
    "    stu_marks = np.array(details.iloc[:, 2:2+len(marks)])\n",
    "    max_marks = np.array(q_topic['Marks'])\n",
    "    per_attainment = (stu_marks/max_marks)*100.0\n",
    "    per_attainment = per_attainment.reshape(4)\n",
    "    return per_attainment"
   ]
  },
  {
   "cell_type": "code",
   "execution_count": 302,
   "metadata": {},
   "outputs": [
    {
     "data": {
      "image/png": "[encoded data removed]",
      "text/plain": [
       "<Figure size 1000x500 with 1 Axes>"
      ]
     },
     "metadata": {},
     "output_type": "display_data"
    }
   ],
   "source": [
    "ques_num = q_topic['Question Number']\n",
    "per_attainment = stu_attainment(16103007)\n",
    "\n",
    "fig = plt.figure(figsize = (10, 5))\n",
    "\n",
    "# creating the bar plot\n",
    "plt.bar(ques_num, per_attainment , color ='maroon',\n",
    "        width = 0.4)\n",
    "\n",
    "plt.xlabel(\"Questions\")\n",
    "plt.ylabel(\"% Attainment\")\n",
    "plt.title(\"Question-Wise Attainment\")\n",
    "plt.show()"
   ]
  },
  {
   "cell_type": "code",
   "execution_count": 303,
   "metadata": {},
   "outputs": [],
   "source": [
    "def get_weak_topics(enroll):\n",
    "    per_attainment = stu_attainment(enroll)\n",
    "    topics = q_topic['Topic']\n",
    "    ls = []\n",
    "    for i in range(0,len(per_attainment)):\n",
    "        if per_attainment[i] < 60.0:\n",
    "            ls.append(topics[i])\n",
    "    return ls"
   ]
  },
  {
   "cell_type": "code",
   "execution_count": 304,
   "metadata": {},
   "outputs": [
    {
     "data": {
      "text/plain": [
       "['random', ': dbscan']"
      ]
     },
     "execution_count": 304,
     "metadata": {},
     "output_type": "execute_result"
    }
   ],
   "source": [
    "get_weak_topics(16103007)"
   ]
  },
  {
   "cell_type": "markdown",
   "metadata": {},
   "source": [
    "### Teacher's Dashboard "
   ]
  },
  {
   "cell_type": "code",
   "execution_count": 305,
   "metadata": {},
   "outputs": [
    {
     "data": {
      "text/plain": [
       "['random', ': dbscan']"
      ]
     },
     "execution_count": 305,
     "metadata": {},
     "output_type": "execute_result"
    }
   ],
   "source": [
    "max_marks = q_topic['Marks']\n",
    "avg_marks = np.array(mean_q)\n",
    "per_marks = (avg_marks/max_marks)*100.0\n",
    "\n",
    "weak_topics_teacher=[]\n",
    "\n",
    "topics = q_topic['Topic']\n",
    "for i in range(0,len(per_marks)):\n",
    "    if per_marks[i] < 60.0:\n",
    "        weak_topics_teacher.append(topics[i])\n",
    "\n",
    "weak_topics_teacher"
   ]
  },
  {
   "cell_type": "code",
   "execution_count": 306,
   "metadata": {},
   "outputs": [],
   "source": [
    "def get_attainment_column(col, max_marks):\n",
    "    att_col = []\n",
    "    for i in col:\n",
    "        att_col.append((i/max_marks)*100.0)\n",
    "    return att_col"
   ]
  },
  {
   "cell_type": "code",
   "execution_count": 307,
   "metadata": {},
   "outputs": [
    {
     "name": "stderr",
     "output_type": "stream",
     "text": [
      "/var/folders/71/m7vk6ll143bfrk27k51drl380000gn/T/ipykernel_17982/1540268601.py:4: FutureWarning: iteritems is deprecated and will be removed in a future version. Use .items instead.\n",
      "  for name, values in marks_obtained.iteritems():\n"
     ]
    },
    {
     "data": {
      "text/html": [
       "<div>\n",
       "<style scoped>\n",
       "    .dataframe tbody tr th:only-of-type {\n",
       "        vertical-align: middle;\n",
       "    }\n",
       "\n",
       "    .dataframe tbody tr th {\n",
       "        vertical-align: top;\n",
       "    }\n",
       "\n",
       "    .dataframe thead th {\n",
       "        text-align: right;\n",
       "    }\n",
       "</style>\n",
       "<table border=\"1\" class=\"dataframe\">\n",
       "  <thead>\n",
       "    <tr style=\"text-align: right;\">\n",
       "      <th></th>\n",
       "      <th>Roll No</th>\n",
       "      <th>Student Name</th>\n",
       "      <th>Q1</th>\n",
       "      <th>Q2</th>\n",
       "      <th>Q3</th>\n",
       "      <th>Q4</th>\n",
       "    </tr>\n",
       "  </thead>\n",
       "  <tbody>\n",
       "    <tr>\n",
       "      <th>1</th>\n",
       "      <td>16103003</td>\n",
       "      <td>Prakhar Saxena</td>\n",
       "      <td>37.50</td>\n",
       "      <td>55.0</td>\n",
       "      <td>25.000000</td>\n",
       "      <td>22.727273</td>\n",
       "    </tr>\n",
       "    <tr>\n",
       "      <th>2</th>\n",
       "      <td>16103004</td>\n",
       "      <td>Neha Rastogi</td>\n",
       "      <td>93.75</td>\n",
       "      <td>70.0</td>\n",
       "      <td>75.000000</td>\n",
       "      <td>54.545455</td>\n",
       "    </tr>\n",
       "    <tr>\n",
       "      <th>3</th>\n",
       "      <td>16103006</td>\n",
       "      <td>Tarushi Agrawal</td>\n",
       "      <td>100.00</td>\n",
       "      <td>70.0</td>\n",
       "      <td>83.333333</td>\n",
       "      <td>54.545455</td>\n",
       "    </tr>\n",
       "    <tr>\n",
       "      <th>4</th>\n",
       "      <td>16103007</td>\n",
       "      <td>Kanishk</td>\n",
       "      <td>62.50</td>\n",
       "      <td>60.0</td>\n",
       "      <td>16.666667</td>\n",
       "      <td>4.545455</td>\n",
       "    </tr>\n",
       "    <tr>\n",
       "      <th>5</th>\n",
       "      <td>16103008</td>\n",
       "      <td>Rishabh Jaiswal</td>\n",
       "      <td>100.00</td>\n",
       "      <td>50.0</td>\n",
       "      <td>16.666667</td>\n",
       "      <td>63.636364</td>\n",
       "    </tr>\n",
       "    <tr>\n",
       "      <th>...</th>\n",
       "      <td>...</td>\n",
       "      <td>...</td>\n",
       "      <td>...</td>\n",
       "      <td>...</td>\n",
       "      <td>...</td>\n",
       "      <td>...</td>\n",
       "    </tr>\n",
       "    <tr>\n",
       "      <th>187</th>\n",
       "      <td>16803002</td>\n",
       "      <td>Nikita Gupta</td>\n",
       "      <td>81.25</td>\n",
       "      <td>80.0</td>\n",
       "      <td>33.333333</td>\n",
       "      <td>31.818182</td>\n",
       "    </tr>\n",
       "    <tr>\n",
       "      <th>188</th>\n",
       "      <td>16803003</td>\n",
       "      <td>Kirti Godani</td>\n",
       "      <td>43.75</td>\n",
       "      <td>60.0</td>\n",
       "      <td>66.666667</td>\n",
       "      <td>13.636364</td>\n",
       "    </tr>\n",
       "    <tr>\n",
       "      <th>189</th>\n",
       "      <td>16803021</td>\n",
       "      <td>Deepshi Sharma</td>\n",
       "      <td>56.25</td>\n",
       "      <td>70.0</td>\n",
       "      <td>83.333333</td>\n",
       "      <td>27.272727</td>\n",
       "    </tr>\n",
       "    <tr>\n",
       "      <th>190</th>\n",
       "      <td>16803025</td>\n",
       "      <td>Prakhar Vaish</td>\n",
       "      <td>37.50</td>\n",
       "      <td>60.0</td>\n",
       "      <td>58.333333</td>\n",
       "      <td>9.090909</td>\n",
       "    </tr>\n",
       "    <tr>\n",
       "      <th>191</th>\n",
       "      <td>9916103163</td>\n",
       "      <td>Ashray Dubey</td>\n",
       "      <td>68.75</td>\n",
       "      <td>45.0</td>\n",
       "      <td>16.666667</td>\n",
       "      <td>0.000000</td>\n",
       "    </tr>\n",
       "  </tbody>\n",
       "</table>\n",
       "<p>191 rows × 6 columns</p>\n",
       "</div>"
      ],
      "text/plain": [
       "        Roll No     Student Name      Q1    Q2         Q3         Q4\n",
       "1      16103003   Prakhar Saxena   37.50  55.0  25.000000  22.727273\n",
       "2      16103004     Neha Rastogi   93.75  70.0  75.000000  54.545455\n",
       "3      16103006  Tarushi Agrawal  100.00  70.0  83.333333  54.545455\n",
       "4      16103007          Kanishk   62.50  60.0  16.666667   4.545455\n",
       "5      16103008  Rishabh Jaiswal  100.00  50.0  16.666667  63.636364\n",
       "..          ...              ...     ...   ...        ...        ...\n",
       "187    16803002     Nikita Gupta   81.25  80.0  33.333333  31.818182\n",
       "188    16803003     Kirti Godani   43.75  60.0  66.666667  13.636364\n",
       "189    16803021   Deepshi Sharma   56.25  70.0  83.333333  27.272727\n",
       "190    16803025    Prakhar Vaish   37.50  60.0  58.333333   9.090909\n",
       "191  9916103163     Ashray Dubey   68.75  45.0  16.666667   0.000000\n",
       "\n",
       "[191 rows x 6 columns]"
      ]
     },
     "execution_count": 307,
     "metadata": {},
     "output_type": "execute_result"
    }
   ],
   "source": [
    "new_df = pd.DataFrame()\n",
    "new_df['Roll No'] = ms['Roll No.']\n",
    "new_df['Student Name'] = ms['Student Name']\n",
    "for name, values in marks_obtained.iteritems():\n",
    "    max_marks = int(q_topic.loc[q_topic['Question Number'] == name]['Marks'])\n",
    "    att_col = get_attainment_column(list(values), max_marks)\n",
    "    new_df[name] = att_col\n",
    "new_df"
   ]
  },
  {
   "cell_type": "code",
   "execution_count": 308,
   "metadata": {},
   "outputs": [
    {
     "data": {
      "text/plain": [
       "array([[112.,  56.,  23.],\n",
       "       [142.,  35.,  14.],\n",
       "       [ 75.,  56.,  60.],\n",
       "       [ 10.,  42., 139.]])"
      ]
     },
     "execution_count": 308,
     "metadata": {},
     "output_type": "execute_result"
    }
   ],
   "source": [
    "strong_avg_weak = np.zeros((len(marks),3))\n",
    "for index, row in new_df.iterrows():\n",
    "    row = row[2:]\n",
    "    for i in range(0, len(row)):\n",
    "        if row[i] >= 70:\n",
    "            strong_avg_weak[i][0]+=1\n",
    "        elif row[i] >= 50:\n",
    "            strong_avg_weak[i][1]+=1\n",
    "        else:\n",
    "            strong_avg_weak[i][2]+=1\n",
    "strong_avg_weak"
   ]
  },
  {
   "cell_type": "code",
   "execution_count": 309,
   "metadata": {},
   "outputs": [
    {
     "data": {
      "image/png": "[encoded data removed]",
      "text/plain": [
       "<Figure size 640x480 with 1 Axes>"
      ]
     },
     "metadata": {},
     "output_type": "display_data"
    },
    {
     "data": {
      "image/png": "[encoded data removed]",
      "text/plain": [
       "<Figure size 640x480 with 1 Axes>"
      ]
     },
     "metadata": {},
     "output_type": "display_data"
    },
    {
     "data": {
      "image/png": "[encoded data removed]",
      "text/plain": [
       "<Figure size 640x480 with 1 Axes>"
      ]
     },
     "metadata": {},
     "output_type": "display_data"
    },
    {
     "data": {
      "image/png": "[encoded data removed]",
      "text/plain": [
       "<Figure size 640x480 with 1 Axes>"
      ]
     },
     "metadata": {},
     "output_type": "display_data"
    }
   ],
   "source": [
    "topics = q_topic['Topic']\n",
    "for i in range(0, len(strong_avg_weak)):\n",
    "    plt.pie(strong_avg_weak[i], labels = ['Strong', 'Average', 'Weak'], autopct='%.1f%%')\n",
    "    plt.title(topics[i])\n",
    "    plt.show()"
   ]
  },
  {
   "cell_type": "code",
   "execution_count": 313,
   "metadata": {},
   "outputs": [
    {
     "data": {
      "text/plain": [
       "': dbscan'"
      ]
     },
     "execution_count": 313,
     "metadata": {},
     "output_type": "execute_result"
    }
   ],
   "source": [
    "ans=q_topic.loc[q_topic['Marks'].idxmax()]\n",
    "ans['Topic']"
   ]
  },
  {
   "cell_type": "markdown",
   "metadata": {},
   "source": [
    "### Table for overall analysis"
   ]
  },
  {
   "cell_type": "code",
   "execution_count": 278,
   "metadata": {},
   "outputs": [
    {
     "data": {
      "text/html": [
       "<div>\n",
       "<style scoped>\n",
       "    .dataframe tbody tr th:only-of-type {\n",
       "        vertical-align: middle;\n",
       "    }\n",
       "\n",
       "    .dataframe tbody tr th {\n",
       "        vertical-align: top;\n",
       "    }\n",
       "\n",
       "    .dataframe thead th {\n",
       "        text-align: right;\n",
       "    }\n",
       "</style>\n",
       "<table border=\"1\" class=\"dataframe\">\n",
       "  <thead>\n",
       "    <tr style=\"text-align: right;\">\n",
       "      <th></th>\n",
       "      <th>Question Number</th>\n",
       "      <th>Topic</th>\n",
       "      <th>Cosine Similarity</th>\n",
       "      <th>Marks</th>\n",
       "      <th>Average Number</th>\n",
       "    </tr>\n",
       "  </thead>\n",
       "  <tbody>\n",
       "    <tr>\n",
       "      <th>0</th>\n",
       "      <td>Q1</td>\n",
       "      <td>item-to-item recommendation</td>\n",
       "      <td>0.866025</td>\n",
       "      <td>8</td>\n",
       "      <td>5.903141</td>\n",
       "    </tr>\n",
       "    <tr>\n",
       "      <th>1</th>\n",
       "      <td>Q2</td>\n",
       "      <td>apriori algorithm</td>\n",
       "      <td>1.000000</td>\n",
       "      <td>10</td>\n",
       "      <td>7.683246</td>\n",
       "    </tr>\n",
       "    <tr>\n",
       "      <th>2</th>\n",
       "      <td>Q3</td>\n",
       "      <td>random</td>\n",
       "      <td>0.707107</td>\n",
       "      <td>6</td>\n",
       "      <td>3.528796</td>\n",
       "    </tr>\n",
       "    <tr>\n",
       "      <th>3</th>\n",
       "      <td>Q4</td>\n",
       "      <td>: dbscan</td>\n",
       "      <td>0.707107</td>\n",
       "      <td>11</td>\n",
       "      <td>4.049738</td>\n",
       "    </tr>\n",
       "  </tbody>\n",
       "</table>\n",
       "</div>"
      ],
      "text/plain": [
       "  Question Number                        Topic  Cosine Similarity  Marks  \\\n",
       "0              Q1  item-to-item recommendation           0.866025      8   \n",
       "1              Q2            apriori algorithm           1.000000     10   \n",
       "2              Q3                       random           0.707107      6   \n",
       "3              Q4                     : dbscan           0.707107     11   \n",
       "\n",
       "   Average Number  \n",
       "0        5.903141  \n",
       "1        7.683246  \n",
       "2        3.528796  \n",
       "3        4.049738  "
      ]
     },
     "execution_count": 278,
     "metadata": {},
     "output_type": "execute_result"
    }
   ],
   "source": [
    "q_topic['Average Number'] = mean_q\n",
    "q_topic"
   ]
  },
  {
   "cell_type": "code",
   "execution_count": 279,
   "metadata": {},
   "outputs": [],
   "source": [
    "percentage_attainment = (q_topic['Average Number']/q_topic['Marks'])*100.0\n",
    "q_topic['Percentage Attainment'] = percentage_attainment"
   ]
  },
  {
   "cell_type": "code",
   "execution_count": 280,
   "metadata": {},
   "outputs": [
    {
     "data": {
      "text/html": [
       "<div>\n",
       "<style scoped>\n",
       "    .dataframe tbody tr th:only-of-type {\n",
       "        vertical-align: middle;\n",
       "    }\n",
       "\n",
       "    .dataframe tbody tr th {\n",
       "        vertical-align: top;\n",
       "    }\n",
       "\n",
       "    .dataframe thead th {\n",
       "        text-align: right;\n",
       "    }\n",
       "</style>\n",
       "<table border=\"1\" class=\"dataframe\">\n",
       "  <thead>\n",
       "    <tr style=\"text-align: right;\">\n",
       "      <th></th>\n",
       "      <th>Question Number</th>\n",
       "      <th>Topic</th>\n",
       "      <th>Cosine Similarity</th>\n",
       "      <th>Marks</th>\n",
       "      <th>Average Number</th>\n",
       "      <th>Percentage Attainment</th>\n",
       "    </tr>\n",
       "  </thead>\n",
       "  <tbody>\n",
       "    <tr>\n",
       "      <th>0</th>\n",
       "      <td>Q1</td>\n",
       "      <td>item-to-item recommendation</td>\n",
       "      <td>0.866025</td>\n",
       "      <td>8</td>\n",
       "      <td>5.903141</td>\n",
       "      <td>73.789267</td>\n",
       "    </tr>\n",
       "    <tr>\n",
       "      <th>1</th>\n",
       "      <td>Q2</td>\n",
       "      <td>apriori algorithm</td>\n",
       "      <td>1.000000</td>\n",
       "      <td>10</td>\n",
       "      <td>7.683246</td>\n",
       "      <td>76.832461</td>\n",
       "    </tr>\n",
       "    <tr>\n",
       "      <th>2</th>\n",
       "      <td>Q3</td>\n",
       "      <td>random</td>\n",
       "      <td>0.707107</td>\n",
       "      <td>6</td>\n",
       "      <td>3.528796</td>\n",
       "      <td>58.813264</td>\n",
       "    </tr>\n",
       "    <tr>\n",
       "      <th>3</th>\n",
       "      <td>Q4</td>\n",
       "      <td>: dbscan</td>\n",
       "      <td>0.707107</td>\n",
       "      <td>11</td>\n",
       "      <td>4.049738</td>\n",
       "      <td>36.815802</td>\n",
       "    </tr>\n",
       "  </tbody>\n",
       "</table>\n",
       "</div>"
      ],
      "text/plain": [
       "  Question Number                        Topic  Cosine Similarity  Marks  \\\n",
       "0              Q1  item-to-item recommendation           0.866025      8   \n",
       "1              Q2            apriori algorithm           1.000000     10   \n",
       "2              Q3                       random           0.707107      6   \n",
       "3              Q4                     : dbscan           0.707107     11   \n",
       "\n",
       "   Average Number  Percentage Attainment  \n",
       "0        5.903141              73.789267  \n",
       "1        7.683246              76.832461  \n",
       "2        3.528796              58.813264  \n",
       "3        4.049738              36.815802  "
      ]
     },
     "execution_count": 280,
     "metadata": {},
     "output_type": "execute_result"
    }
   ],
   "source": [
    "q_topic"
   ]
  },
  {
   "cell_type": "code",
   "execution_count": 281,
   "metadata": {},
   "outputs": [],
   "source": [
    "from course_des_invert import get_inverted\n",
    "\n",
    "cd = get_inverted()"
   ]
  },
  {
   "cell_type": "code",
   "execution_count": 282,
   "metadata": {},
   "outputs": [],
   "source": [
    "module = []\n",
    "for i in q_topic['Topic']:\n",
    "    module.append(cd[i])\n",
    "\n",
    "q_topic['Module'] = module"
   ]
  },
  {
   "cell_type": "code",
   "execution_count": 283,
   "metadata": {},
   "outputs": [
    {
     "data": {
      "text/html": [
       "<div>\n",
       "<style scoped>\n",
       "    .dataframe tbody tr th:only-of-type {\n",
       "        vertical-align: middle;\n",
       "    }\n",
       "\n",
       "    .dataframe tbody tr th {\n",
       "        vertical-align: top;\n",
       "    }\n",
       "\n",
       "    .dataframe thead th {\n",
       "        text-align: right;\n",
       "    }\n",
       "</style>\n",
       "<table border=\"1\" class=\"dataframe\">\n",
       "  <thead>\n",
       "    <tr style=\"text-align: right;\">\n",
       "      <th></th>\n",
       "      <th>Question Number</th>\n",
       "      <th>Topic</th>\n",
       "      <th>Cosine Similarity</th>\n",
       "      <th>Marks</th>\n",
       "      <th>Average Number</th>\n",
       "      <th>Percentage Attainment</th>\n",
       "      <th>Module</th>\n",
       "    </tr>\n",
       "  </thead>\n",
       "  <tbody>\n",
       "    <tr>\n",
       "      <th>0</th>\n",
       "      <td>Q1</td>\n",
       "      <td>item-to-item recommendation</td>\n",
       "      <td>0.866025</td>\n",
       "      <td>8</td>\n",
       "      <td>5.903141</td>\n",
       "      <td>73.789267</td>\n",
       "      <td>Recommendation Algorithms</td>\n",
       "    </tr>\n",
       "    <tr>\n",
       "      <th>1</th>\n",
       "      <td>Q2</td>\n",
       "      <td>apriori algorithm</td>\n",
       "      <td>1.000000</td>\n",
       "      <td>10</td>\n",
       "      <td>7.683246</td>\n",
       "      <td>76.832461</td>\n",
       "      <td>Association  Algorithms</td>\n",
       "    </tr>\n",
       "    <tr>\n",
       "      <th>2</th>\n",
       "      <td>Q3</td>\n",
       "      <td>random</td>\n",
       "      <td>0.707107</td>\n",
       "      <td>6</td>\n",
       "      <td>3.528796</td>\n",
       "      <td>58.813264</td>\n",
       "      <td>Web caching Algorithm</td>\n",
       "    </tr>\n",
       "    <tr>\n",
       "      <th>3</th>\n",
       "      <td>Q4</td>\n",
       "      <td>: dbscan</td>\n",
       "      <td>0.707107</td>\n",
       "      <td>11</td>\n",
       "      <td>4.049738</td>\n",
       "      <td>36.815802</td>\n",
       "      <td>Clustering Algorithms</td>\n",
       "    </tr>\n",
       "  </tbody>\n",
       "</table>\n",
       "</div>"
      ],
      "text/plain": [
       "  Question Number                        Topic  Cosine Similarity  Marks  \\\n",
       "0              Q1  item-to-item recommendation           0.866025      8   \n",
       "1              Q2            apriori algorithm           1.000000     10   \n",
       "2              Q3                       random           0.707107      6   \n",
       "3              Q4                     : dbscan           0.707107     11   \n",
       "\n",
       "   Average Number  Percentage Attainment                     Module  \n",
       "0        5.903141              73.789267  Recommendation Algorithms  \n",
       "1        7.683246              76.832461    Association  Algorithms  \n",
       "2        3.528796              58.813264      Web caching Algorithm  \n",
       "3        4.049738              36.815802      Clustering Algorithms  "
      ]
     },
     "execution_count": 283,
     "metadata": {},
     "output_type": "execute_result"
    }
   ],
   "source": [
    "q_topic"
   ]
  },
  {
   "cell_type": "code",
   "execution_count": 284,
   "metadata": {},
   "outputs": [],
   "source": [
    "q_topic.to_csv('summary_t3.csv', index=False)"
   ]
  }
 ],
 "metadata": {
  "kernelspec": {
   "display_name": "Python 3.10.8 64-bit",
   "language": "python",
   "name": "python3"
  },
  "language_info": {
   "codemirror_mode": {
    "name": "ipython",
    "version": 3
   },
   "file_extension": ".py",
   "mimetype": "text/x-python",
   "name": "python",
   "nbconvert_exporter": "python",
   "pygments_lexer": "ipython3",
   "version": "3.10.8"
  },
  "orig_nbformat": 4,
  "vscode": {
   "interpreter": {
    "hash": "aee8b7b246df8f9039afb4144a1f6fd8d2ca17a180786b69acc140d282b71a49"
   }
  }
 },
 "nbformat": 4,
 "nbformat_minor": 2
}
